{
 "cells": [
  {
   "cell_type": "code",
   "execution_count": 10,
   "id": "national-surveillance",
   "metadata": {},
   "outputs": [],
   "source": [
    "import pandas as pd\n",
    "\n",
    "ad_clicks = pd.read_csv('ad_clicks.csv')"
   ]
  },
  {
   "cell_type": "code",
   "execution_count": 11,
   "id": "relevant-wedding",
   "metadata": {},
   "outputs": [
    {
     "name": "stdout",
     "output_type": "stream",
     "text": [
      "                                user_id utm_source           day  \\\n",
      "0  008b7c6c-7272-471e-b90e-930d548bd8d7     google  6 - Saturday   \n",
      "1  009abb94-5e14-4b6c-bb1c-4f4df7aa7557   facebook    7 - Sunday   \n",
      "2  00f5d532-ed58-4570-b6d2-768df5f41aed    twitter   2 - Tuesday   \n",
      "3  011adc64-0f44-4fd9-a0bb-f1506d2ad439     google   2 - Tuesday   \n",
      "4  012137e6-7ae7-4649-af68-205b4702169c   facebook    7 - Sunday   \n",
      "\n",
      "   ad_click_timestamp experimental_group  \n",
      "0               718.0                  A  \n",
      "1                 NaN                  B  \n",
      "2                 NaN                  A  \n",
      "3                 NaN                  B  \n",
      "4                 NaN                  B  \n"
     ]
    },
    {
     "data": {
      "text/html": [
       "<div>\n",
       "<style scoped>\n",
       "    .dataframe tbody tr th:only-of-type {\n",
       "        vertical-align: middle;\n",
       "    }\n",
       "\n",
       "    .dataframe tbody tr th {\n",
       "        vertical-align: top;\n",
       "    }\n",
       "\n",
       "    .dataframe thead th {\n",
       "        text-align: right;\n",
       "    }\n",
       "</style>\n",
       "<table border=\"1\" class=\"dataframe\">\n",
       "  <thead>\n",
       "    <tr style=\"text-align: right;\">\n",
       "      <th></th>\n",
       "      <th>utm_source</th>\n",
       "      <th>user_id</th>\n",
       "    </tr>\n",
       "  </thead>\n",
       "  <tbody>\n",
       "    <tr>\n",
       "      <th>0</th>\n",
       "      <td>email</td>\n",
       "      <td>255</td>\n",
       "    </tr>\n",
       "    <tr>\n",
       "      <th>1</th>\n",
       "      <td>facebook</td>\n",
       "      <td>504</td>\n",
       "    </tr>\n",
       "    <tr>\n",
       "      <th>2</th>\n",
       "      <td>google</td>\n",
       "      <td>680</td>\n",
       "    </tr>\n",
       "    <tr>\n",
       "      <th>3</th>\n",
       "      <td>twitter</td>\n",
       "      <td>215</td>\n",
       "    </tr>\n",
       "  </tbody>\n",
       "</table>\n",
       "</div>"
      ],
      "text/plain": [
       "  utm_source  user_id\n",
       "0      email      255\n",
       "1   facebook      504\n",
       "2     google      680\n",
       "3    twitter      215"
      ]
     },
     "execution_count": 11,
     "metadata": {},
     "output_type": "execute_result"
    }
   ],
   "source": [
    "# Examine the first few rows of ad_clicks\n",
    "print(ad_clicks.head())\n",
    "\n",
    "# How many views (i.e., rows of the table) came from each utm_source?\n",
    "ad_clicks.groupby('utm_source').user_id.count().reset_index()\n",
    "\n"
   ]
  },
  {
   "cell_type": "code",
   "execution_count": 12,
   "id": "modern-blank",
   "metadata": {},
   "outputs": [],
   "source": [
    "# Create a new column called is_click, which is True if ad_click_timestamp is not null and False otherwise.\n",
    "\n",
    "ad_clicks['is_click'] = ad_clicks.ad_click_timestamp.isnull()\n"
   ]
  },
  {
   "cell_type": "code",
   "execution_count": 13,
   "id": "surgical-composer",
   "metadata": {},
   "outputs": [
    {
     "name": "stdout",
     "output_type": "stream",
     "text": [
      "is_click    False  True  percent_clicked\n",
      "utm_source                              \n",
      "email          80   175         0.686275\n",
      "facebook      180   324         0.642857\n",
      "google        239   441         0.648529\n",
      "twitter        66   149         0.693023\n"
     ]
    }
   ],
   "source": [
    "# We want to know the percent of people who clicked on ads from each utm_source.\n",
    "# Start by grouping by utm_source and is_click and counting the number of user_id‘s in each of those groups. \n",
    "# Save your answer to the variable clicks_by_source.\n",
    "\n",
    "clicks_by_source = ad_clicks.groupby(['utm_source','is_click']).user_id.count().reset_index()\n",
    "\n",
    "\n",
    "\n",
    "# Now let’s pivot the data so that the columns are is_click (either True or False), the index is utm_source, \n",
    "# and the values are user_id.\n",
    "# Save your results to the variable clicks_pivot\n",
    "# Create a new column in clicks_pivot called percent_clicked \n",
    "# which is equal to the percent of users who clicked on the ad from each utm_source.\n",
    "# Was there a difference in click rates for each source?\n",
    "\n",
    "clicks_pivot = clicks_by_source.pivot(columns='is_click',index='utm_source',values='user_id')\n",
    "\n",
    "clicks_pivot['percent_clicked'] = clicks_pivot[True] / (clicks_pivot[True] + clicks_pivot[False])\n",
    "\n",
    "print(clicks_pivot)"
   ]
  },
  {
   "cell_type": "code",
   "execution_count": 15,
   "id": "handy-database",
   "metadata": {},
   "outputs": [
    {
     "name": "stdout",
     "output_type": "stream",
     "text": [
      "  experimental_group  user_id\n",
      "0                  A      827\n",
      "1                  B      827\n"
     ]
    }
   ],
   "source": [
    "# Analysis on A/B Tests\n",
    "\n",
    "# The column experimental_group tells us whether the user was shown Ad A or Ad B.\n",
    "# Were approximately the same number of people shown both adds?\n",
    "\n",
    "\n",
    "ep = ad_clicks.groupby('experimental_group').user_id.count().reset_index()\n",
    "\n",
    "print(ep)\n",
    "\n"
   ]
  },
  {
   "cell_type": "code",
   "execution_count": 16,
   "id": "surgical-jackson",
   "metadata": {},
   "outputs": [
    {
     "name": "stdout",
     "output_type": "stream",
     "text": [
      "experimental_group    A    B\n",
      "is_click                    \n",
      "False               310  255\n",
      "True                517  572\n"
     ]
    }
   ],
   "source": [
    "# Using the column is_click that we defined earlier, check to see if a greater percentage of users clicked on Ad A or Ad B.\n",
    "\n",
    "task_8 = ad_clicks.groupby(['experimental_group','is_click']).user_id.count().reset_index()\n",
    "\n",
    "task_8_pivot = task_8.pivot(columns='experimental_group',index='is_click',values='user_id')\n",
    "\n",
    "print(task_8_pivot)"
   ]
  },
  {
   "cell_type": "code",
   "execution_count": 18,
   "id": "worthy-russell",
   "metadata": {},
   "outputs": [
    {
     "name": "stdout",
     "output_type": "stream",
     "text": [
      "is_click       False  True  TRUE A percentage\n",
      "day                                          \n",
      "1 - Monday        43    70           0.619469\n",
      "2 - Tuesday       43    76           0.638655\n",
      "3 - Wednesday     38    86           0.693548\n",
      "4 - Thursday      47    69           0.594828\n",
      "5 - Friday        51    77           0.601562\n",
      "6 - Saturday      45    73           0.618644\n",
      "7 - Sunday        43    66           0.605505\n"
     ]
    }
   ],
   "source": [
    "# The Product Manager for the A/B test thinks that the clicks might have changed by day of the week.\n",
    "# Start by creating two DataFrames: a_clicks and b_clicks, \n",
    "# which contain only the results for A group and B group, respectively\n",
    "\n",
    "\n",
    "a_clicks = ad_clicks[ad_clicks.experimental_group == 'A']\n",
    "b_clicks = ad_clicks[ad_clicks.experimental_group == 'B']\n",
    "\n",
    "\n",
    "\n",
    "# For each group (a_clicks and b_clicks), calculate the percent of users who clicked on the ad by day\n",
    "\n",
    "ab = a_clicks.groupby(['is_click','day']).user_id.count().reset_index()\n",
    "ab_pivot = ab.pivot(columns='is_click',index='day',values='user_id')\n",
    "ab_pivot['TRUE A percentage'] = ab_pivot[True] / (ab_pivot[True]+ ab_pivot[False])\n",
    "\n",
    "print(ab_pivot)"
   ]
  },
  {
   "cell_type": "code",
   "execution_count": 17,
   "id": "romance-sweden",
   "metadata": {},
   "outputs": [
    {
     "name": "stdout",
     "output_type": "stream",
     "text": [
      "is_click       False  True  TRUE  percentage\n",
      "day                                         \n",
      "1 - Monday        32    81          0.716814\n",
      "2 - Tuesday       45    74          0.621849\n",
      "3 - Wednesday     35    89          0.717742\n",
      "4 - Thursday      29    87          0.750000\n",
      "5 - Friday        38    90          0.703125\n",
      "6 - Saturday      42    76          0.644068\n",
      "7 - Sunday        34    75          0.688073\n"
     ]
    }
   ],
   "source": [
    "BA = b_clicks.groupby(['is_click','day']).user_id.count().reset_index()\n",
    "BA_pivot = BA.pivot(columns='is_click',index='day',values='user_id')\n",
    "BA_pivot['TRUE  percentage'] = BA_pivot[True] / (BA_pivot[True]+ BA_pivot[False])\n",
    "\n",
    "print(BA_pivot)"
   ]
  },
  {
   "cell_type": "code",
   "execution_count": null,
   "id": "selective-collapse",
   "metadata": {},
   "outputs": [],
   "source": []
  }
 ],
 "metadata": {
  "kernelspec": {
   "display_name": "Python 3",
   "language": "python",
   "name": "python3"
  },
  "language_info": {
   "codemirror_mode": {
    "name": "ipython",
    "version": 3
   },
   "file_extension": ".py",
   "mimetype": "text/x-python",
   "name": "python",
   "nbconvert_exporter": "python",
   "pygments_lexer": "ipython3",
   "version": "3.9.2"
  }
 },
 "nbformat": 4,
 "nbformat_minor": 5
}
